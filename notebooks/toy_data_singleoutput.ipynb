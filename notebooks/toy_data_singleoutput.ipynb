{
 "cells": [
  {
   "cell_type": "code",
   "execution_count": 1,
   "metadata": {},
   "outputs": [],
   "source": [
    "import sys\n",
    "import climin\n",
    "from functools import partial\n",
    "import warnings\n",
    "import os\n",
    "sys.path.append('..')\n",
    "\n",
    "import numpy as np\n",
    "from scipy.stats import multinomial\n",
    "from scipy.linalg.blas import dtrmm\n",
    "\n",
    "import GPy\n",
    "from GPy.util import choleskies\n",
    "from GPy.core.parameterization.param import Param\n",
    "from GPy.kern import Coregionalize\n",
    "from GPy.likelihoods import Likelihood\n",
    "from GPy.util import linalg\n",
    "\n",
    "from likelihoods.bernoulli import Bernoulli\n",
    "from likelihoods.gaussian import Gaussian\n",
    "from likelihoods.poisson import Poisson\n",
    "\n",
    "from likelihoods.hetgaussian import HetGaussian\n",
    "\n",
    "from hetmogp.util import draw_mini_slices\n",
    "from hetmogp.het_likelihood import HetLikelihood\n",
    "from hetmogp.svmogp import SVMOGP\n",
    "from hetmogp import util\n",
    "from hetmogp.util import vem_algorithm as VEM\n",
    "\n",
    "import matplotlib.pyplot as plt\n",
    "from matplotlib.pyplot import gca\n",
    "from matplotlib import rc, font_manager\n",
    "from matplotlib import rcParams\n",
    "\n",
    "warnings.filterwarnings(\"ignore\")\n",
    "\n",
    "from GPy.util.misc import safe_exp\n",
    "from GPy import kern\n",
    "\n",
    "from sklearn.cluster import KMeans\n",
    "\n",
    "import random"
   ]
  },
  {
   "cell_type": "code",
   "execution_count": 2,
   "metadata": {},
   "outputs": [],
   "source": [
    "X1_train = np.load('./synthetic_data/X1_train_syn.npy')\n",
    "X2_train = np.load('./synthetic_data/X2_train_syn.npy')\n",
    "Y1_train = np.load('./synthetic_data/Y1_train_syn.npy')\n",
    "Y2_train = np.load('./synthetic_data/Y2_train_syn.npy')\n",
    "X1test = np.load('./synthetic_data/X_test_syn.npy')\n",
    "Y1test = np.load('./synthetic_data/Y_test_syn.npy')\n",
    "Z = np.load('./synthetic_data/Z_syn.npy')"
   ]
  },
  {
   "cell_type": "code",
   "execution_count": 3,
   "metadata": {},
   "outputs": [],
   "source": [
    "M = 100  # number of inducing points\n",
    "Q = 1  # number of latent functions\n",
    "l = 4.0\n",
    "v_q = 1\n",
    "\n",
    "# Heterogeneous Likelihood Definition\n",
    "likelihoods_list = [Poisson()] \n",
    "likelihood = HetLikelihood(likelihoods_list)\n",
    "Y_metadata = likelihood.generate_metadata()\n",
    "D = likelihood.num_output_functions(Y_metadata)\n",
    "\n",
    "W_list, _ = util.random_W_kappas(Q, D, rank=1, experiment=True)"
   ]
  },
  {
   "cell_type": "code",
   "execution_count": 4,
   "metadata": {},
   "outputs": [],
   "source": [
    "# KERNELS\n",
    "input_dim = 3\n",
    "\n",
    "ls_q = np.array(([l]*Q))\n",
    "var_q = np.array(([v_q]*Q))\n",
    "kern_list = util.latent_functions_prior(Q, lenghtscale=ls_q, variance=var_q, input_dim=input_dim)"
   ]
  },
  {
   "cell_type": "code",
   "execution_count": 5,
   "metadata": {},
   "outputs": [],
   "source": [
    "X = [X1_train]\n",
    "Y = [Y1_train]"
   ]
  },
  {
   "cell_type": "code",
   "execution_count": 6,
   "metadata": {},
   "outputs": [
    {
     "name": "stdout",
     "output_type": "stream",
     "text": [
      "which mode:\n",
      " adam\n",
      "svi - iteration 50/1000[[-530.79598275]]\n",
      "svi - iteration 100/1000[[-406.90272871]]\n",
      "svi - iteration 150/1000[[-363.45208413]]\n",
      "svi - iteration 200/1000[[-339.98805796]]\n",
      "svi - iteration 250/1000[[-328.07267344]]\n",
      "svi - iteration 300/1000[[-322.95477695]]\n",
      "svi - iteration 350/1000[[-320.82677013]]\n",
      "svi - iteration 400/1000[[-319.92917758]]\n",
      "svi - iteration 450/1000[[-319.54872332]]\n",
      "svi - iteration 500/1000[[-319.39691053]]\n",
      "svi - iteration 550/1000[[-319.34496013]]\n",
      "svi - iteration 600/1000[[-319.33275921]]\n",
      "svi - iteration 650/1000[[-319.33300944]]\n",
      "svi - iteration 700/1000[[-319.3342831]]\n",
      "svi - iteration 750/1000[[-319.33270149]]\n",
      "svi - iteration 800/1000[[-319.32775139]]\n",
      "svi - iteration 850/1000[[-319.32019336]]\n",
      "svi - iteration 900/1000[[-319.31107781]]\n",
      "svi - iteration 950/1000[[-319.30134013]]\n",
      "svi - iteration 1000/1000[[-319.29167879]]\n"
     ]
    }
   ],
   "source": [
    "step_rate = 0.01\n",
    "mode = \"adam\"\n",
    "\n",
    "if mode == \"adam\":\n",
    "    model = SVMOGP(X=X, Y=Y, Z=Z, kern_list=kern_list, likelihood=likelihood, Y_metadata=Y_metadata, batch_size=150)\n",
    "    model.Z.fix()\n",
    "    print(\"which mode:\\n\", mode)\n",
    "    max_iter = 1000\n",
    "    def callback(i):\n",
    "        # global max_iter\n",
    "        if i['n_iter'] % 50 == 0:\n",
    "            print('svi - iteration '+ str(i['n_iter'])+'/' + str(int(max_iter)) + str(model.log_likelihood()))\n",
    "\n",
    "        if i['n_iter'] > max_iter:\n",
    "            return True\n",
    "        return False\n",
    "\n",
    "    opt = climin.Adam(model.optimizer_array, model.stochastic_grad, step_rate=step_rate, \n",
    "                decay_mom1=1 - 0.9, decay_mom2=1 - 0.999)\n",
    "    opt.minimize_until(callback)\n",
    "\n",
    "elif mode == \"vem\":        \n",
    "    print(\"which mode:\\n\", mode)\n",
    "    model = SVMOGP(X=X, Y=Y, Z=Z, kern_list=kern_list, likelihood=likelihood, Y_metadata=Y_metadata)\n",
    "    model = VEM(model, vem_iters=10, maxIter_perVEM=100, optZ=False, verbose=False,verbose_plot=False,non_chained=True)\n",
    "    model.kern_q0.variance.fix()\n",
    "#     model = SVMOGP(X=X, Y=Y, Z=Z, kern_list=kern_list, likelihood=likelihood,Y_metadata=Y_metadata, batch_size=30)\n",
    "#     model = VEM(model, vem_iters=30, maxIter_perVEM=100, step_rate=step_rate, optZ=False, verbose=True, verbose_plot=False)"
   ]
  },
  {
   "cell_type": "code",
   "execution_count": 7,
   "metadata": {},
   "outputs": [
    {
     "name": "stdout",
     "output_type": "stream",
     "text": [
      "model:\n",
      " \n",
      "Name : SVMOGP\n",
      "Objective : 273.0394174184195\n",
      "Number of Parameters : 5454\n",
      "Number of Optimization Parameters : 5154\n",
      "Updates : True\n",
      "Parameters:\n",
      "  \u001b[1mSVMOGP.            \u001b[0;0m  |                   value  |  constraints  |  priors\n",
      "  \u001b[1minducing_inputs    \u001b[0;0m  |                (100, 3)  |     fixed     |        \n",
      "  \u001b[1mm_u                \u001b[0;0m  |                (100, 1)  |               |        \n",
      "  \u001b[1mL_u                \u001b[0;0m  |               (5050, 1)  |               |        \n",
      "  \u001b[1mkern_q0.variance   \u001b[0;0m  |      1.2499084186527034  |      +ve      |        \n",
      "  \u001b[1mkern_q0.lengthscale\u001b[0;0m  |       3.626884787694605  |      +ve      |        \n",
      "  \u001b[1mB_q0.W             \u001b[0;0m  |           [-0.80724708]  |               |        \n",
      "  \u001b[1mB_q0.kappa         \u001b[0;0m  |  5.562684646268137e-309  |      +ve      |        \n"
     ]
    },
    {
     "data": {
      "image/png": "[encoded data removed]",
      "text/plain": [
       "<Figure size 432x288 with 1 Axes>"
      ]
     },
     "metadata": {
      "needs_background": "light"
     },
     "output_type": "display_data"
    },
    {
     "data": {
      "image/png": "[encoded data removed]",
      "text/plain": [
       "<Figure size 432x288 with 1 Axes>"
      ]
     },
     "metadata": {
      "needs_background": "light"
     },
     "output_type": "display_data"
    }
   ],
   "source": [
    "mu_pred, var_pred = model.predict(X1test)\n",
    "posteriors = model.posteriors_F(X1test)\n",
    "mu_fstar, var_fstar = posteriors[0].mean.copy(), np.diag(posteriors[0].covariance.copy())[:, None]\n",
    "\n",
    "plt.figure()\n",
    "\n",
    "# plt.title(\"Test\")\n",
    "plt.plot(Y1test, 'rx')\n",
    "\n",
    "# plt.title(\"Train\")\n",
    "plt.plot(mu_pred[0], 'bo')\n",
    "\n",
    "mu_pred_train, var_pred_train = model.predict(X[0])\n",
    "posteriors_ = model.posteriors_F(X[0])\n",
    "mu_fstar_train, var_fstar_train = posteriors_[0].mean.copy(), np.diag(posteriors_[0].covariance.copy())[:, None]\n",
    "\n",
    "plt.figure()\n",
    "plt.plot(Y[0], 'rx')\n",
    "plt.plot(mu_pred_train[0], 'bo')\n",
    "\n",
    "# np.save('toy_data_gp_params.npy', model.param_array)\n",
    "print(\"model:\\n\", model)"
   ]
  },
  {
   "cell_type": "code",
   "execution_count": 8,
   "metadata": {},
   "outputs": [],
   "source": [
    "X1_train_slice1 = X[0][:131].copy()\n",
    "Y1_train_slice1 = Y[0][:131].copy()\n",
    "X1_train_slice2 = X[0][131:].copy()\n",
    "Y1_train_slice2 = Y[0][131:].copy()"
   ]
  },
  {
   "cell_type": "code",
   "execution_count": 9,
   "metadata": {},
   "outputs": [],
   "source": [
    "values = mu_pred[0].copy()\n",
    "values = np.floor(values)"
   ]
  },
  {
   "cell_type": "code",
   "execution_count": 10,
   "metadata": {},
   "outputs": [],
   "source": [
    "values_train = mu_pred_train[0].copy()\n",
    "values_train = np.floor(values_train)"
   ]
  },
  {
   "cell_type": "code",
   "execution_count": 11,
   "metadata": {},
   "outputs": [
    {
     "data": {
      "text/plain": [
       "Text(0, 0.5, 'Count')"
      ]
     },
     "execution_count": 11,
     "metadata": {},
     "output_type": "execute_result"
    },
    {
     "data": {
      "image/png": "[encoded data removed]",
      "text/plain": [
       "<Figure size 720x216 with 1 Axes>"
      ]
     },
     "metadata": {
      "needs_background": "light"
     },
     "output_type": "display_data"
    }
   ],
   "source": [
    "plt.figure(figsize=(10,3))\n",
    "plt.bar([i for i in range(0, 131)], Y1_train_slice1.reshape((-1,)), color='b', width=0.9)\n",
    "plt.bar([i for i in range(131, 181)], Y1test.reshape((-1,)), color='b', width=0.9)\n",
    "plt.bar([i for i in range(181, 250)], Y1_train_slice2.reshape((-1,)), color='b', width=0.9)\n",
    "\n",
    "plt.bar([i for i in range(0, 131)], values_train[:131].reshape((-1,)), color='g', width=0.9, alpha=0.6)\n",
    "plt.bar([i for i in range(131, 181)], values.reshape((-1,)), color='r', width=0.9, alpha=0.6)\n",
    "plt.bar([i for i in range(181, 250)], values_train[131:].reshape((-1,)), color='g', width=0.9, alpha=0.6)\n",
    "\n",
    "plt.xlabel(\"Input\", fontsize=16)\n",
    "plt.ylabel(\"Count\", fontsize=16)\n"
   ]
  },
  {
   "cell_type": "code",
   "execution_count": null,
   "metadata": {},
   "outputs": [],
   "source": []
  }
 ],
 "metadata": {
  "kernelspec": {
   "display_name": "Python 3",
   "language": "python",
   "name": "python3"
  },
  "language_info": {
   "codemirror_mode": {
    "name": "ipython",
    "version": 3
   },
   "file_extension": ".py",
   "mimetype": "text/x-python",
   "name": "python",
   "nbconvert_exporter": "python",
   "pygments_lexer": "ipython3",
   "version": "3.7.3"
  }
 },
 "nbformat": 4,
 "nbformat_minor": 2
}
