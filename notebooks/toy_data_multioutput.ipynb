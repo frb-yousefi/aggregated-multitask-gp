{
 "cells": [
  {
   "cell_type": "code",
   "execution_count": 1,
   "metadata": {},
   "outputs": [],
   "source": [
    "import sys\n",
    "import climin\n",
    "from functools import partial\n",
    "import warnings\n",
    "import os\n",
    "sys.path.append('..')\n",
    "\n",
    "import numpy as np\n",
    "from scipy.stats import multinomial\n",
    "from scipy.linalg.blas import dtrmm\n",
    "\n",
    "import GPy\n",
    "from GPy.util import choleskies\n",
    "from GPy.core.parameterization.param import Param\n",
    "from GPy.kern import Coregionalize\n",
    "from GPy.likelihoods import Likelihood\n",
    "from GPy.util import linalg\n",
    "\n",
    "from likelihoods.bernoulli import Bernoulli\n",
    "from likelihoods.gaussian import Gaussian\n",
    "from likelihoods.poisson import Poisson\n",
    "\n",
    "from likelihoods.hetgaussian import HetGaussian\n",
    "\n",
    "from hetmogp.util import draw_mini_slices\n",
    "from hetmogp.het_likelihood import HetLikelihood\n",
    "from hetmogp.svmogp import SVMOGP\n",
    "from hetmogp import util\n",
    "from hetmogp.util import vem_algorithm as VEM\n",
    "\n",
    "import matplotlib.pyplot as plt\n",
    "from matplotlib.pyplot import gca\n",
    "from matplotlib import rc, font_manager\n",
    "from matplotlib import rcParams\n",
    "\n",
    "warnings.filterwarnings(\"ignore\")\n",
    "\n",
    "from GPy.util.misc import safe_exp\n",
    "from GPy import kern\n",
    "\n",
    "from sklearn.cluster import KMeans\n",
    "\n",
    "import random"
   ]
  },
  {
   "cell_type": "code",
   "execution_count": 2,
   "metadata": {},
   "outputs": [],
   "source": [
    "r = 9\n",
    "np.random.seed(r)\n",
    "v_q = 1\n",
    "\n",
    "# 2x2\n",
    "# High resolution data\n",
    "bins_h = np.linspace(0,500, 500, dtype=int)\n",
    "bins_h = bins_h.reshape(250, 2)\n",
    "\n",
    "for i in range(len(bins_h)):\n",
    "    bins_h[i][0] = i+1\n",
    "    bins_h[i][1] = i\n",
    "\n",
    "X1_ = bins_h.copy()\n",
    "\n",
    "res_no = 2\n",
    "# Low resolution data\n",
    "bins_l = np.linspace(0,250, 250, dtype=int)\n",
    "bins_l = bins_l.reshape(125, 2)\n",
    "for i in range(len(bins_l)):\n",
    "    bins_l[i][0] = (i+1) * res_no\n",
    "    bins_l[i][1] = i * res_no\n",
    "\n",
    "X2_ = bins_l.copy()\n",
    "\n",
    "X1 = np.zeros((X1_.shape[0], X1_.shape[1]+1))\n",
    "X1[:,:-1] = X1_.copy()\n",
    "\n",
    "X2 = np.zeros((X2_.shape[0], X2_.shape[1]+1))\n",
    "X2[:,:-1] = X2_.copy()\n",
    "\n",
    "X = [X1, X2]"
   ]
  },
  {
   "cell_type": "code",
   "execution_count": 3,
   "metadata": {},
   "outputs": [
    {
     "data": {
      "image/png": "[encoded data removed]",
      "text/plain": [
       "<Figure size 432x288 with 1 Axes>"
      ]
     },
     "metadata": {
      "needs_background": "light"
     },
     "output_type": "display_data"
    },
    {
     "data": {
      "image/png": "[encoded data removed]",
      "text/plain": [
       "<Figure size 432x288 with 1 Axes>"
      ]
     },
     "metadata": {
      "needs_background": "light"
     },
     "output_type": "display_data"
    }
   ],
   "source": [
    "M = 100  # number of inducing points\n",
    "Q = 1  # number of latent functions\n",
    "l = 4.0\n",
    "input_dim = 3\n",
    "\n",
    "kern_extend = kern.Mix_Integral_extend(input_dim=input_dim, lengthscale=[l], variance=v_q, \n",
    "                                       name='Mix_Integral_extend') \n",
    "\n",
    "X_1_2_stack = np.vstack((X1,X2))\n",
    "cov_xx_12 = kern_extend.K(X_1_2_stack)\n",
    "N = X_1_2_stack.shape[0]\n",
    "mean_xx_12 = np.zeros(N)\n",
    "\n",
    "Y12 = np.random.multivariate_normal(mean=mean_xx_12, cov=cov_xx_12, size=1).T\n",
    "\n",
    "ef12 = safe_exp(Y12)\n",
    "samples12 = np.random.poisson(lam=ef12)\n",
    "\n",
    "plt.figure()\n",
    "plt.bar([i for i in range(len(samples12[:X1.shape[0]].reshape(-1,)))], samples12[:X1.shape[0]].reshape(-1,))\n",
    "\n",
    "samples2_5dup = []\n",
    "for i in samples12[X1.shape[0]:].reshape(-1,):\n",
    "    for _ in range(res_no):\n",
    "        samples2_5dup.append(i)\n",
    "\n",
    "plt.figure()        \n",
    "plt.bar([i for i in range(len(samples2_5dup))], samples2_5dup)\n",
    "\n",
    "Y = [samples12[:X1.shape[0]], samples12[X1.shape[0]:]]\n",
    "\n",
    "# Generating missing data (gap)\n",
    "idx_low = 130\n",
    "idx_up = 180\n",
    "X1test = X[0][idx_low:idx_up]\n",
    "Y1test = Y[0][idx_low:idx_up]\n",
    "\n",
    "size = ((idx_up - idx_low))\n",
    "idx = np.linspace(idx_low+1, idx_up, size)\n",
    "\n",
    "X1_high_new = np.delete(X[0], idx, axis=0)\n",
    "Y1_high_new = np.delete(Y[0], idx, axis=0)\n",
    "\n",
    "X = [X1_high_new, X2]\n",
    "Y = [Y1_high_new, samples12[X1.shape[0]:]]\n"
   ]
  },
  {
   "cell_type": "code",
   "execution_count": 4,
   "metadata": {},
   "outputs": [],
   "source": [
    "# Heterogeneous Likelihood Definition\n",
    "likelihoods_list = [Poisson(), Poisson()] \n",
    "likelihood = HetLikelihood(likelihoods_list)\n",
    "Y_metadata = likelihood.generate_metadata()\n",
    "D = likelihood.num_output_functions(Y_metadata)\n",
    "\n",
    "W_list, _ = util.random_W_kappas(Q, D, rank=1, experiment=True)\n",
    "\n",
    "# KERNELS\n",
    "ls_q = np.array(([l]*Q))\n",
    "var_q = np.array(([v_q]*Q))\n",
    "kern_list = util.latent_functions_prior(Q, lenghtscale=ls_q, variance=var_q, input_dim=input_dim)\n",
    "\n",
    "#  Creating inducing inputs using cluster centers of the original images\n",
    "X_ = np.vstack((X[0], X[1]))\n",
    "kmeans_X = KMeans(n_clusters=M, random_state=0).fit(X_)\n",
    "kmeans_X.cluster_centers_.shape\n",
    "Z = kmeans_X.cluster_centers_\n",
    "Z[:,-1] = 1"
   ]
  },
  {
   "cell_type": "code",
   "execution_count": 6,
   "metadata": {
    "scrolled": true
   },
   "outputs": [
    {
     "name": "stdout",
     "output_type": "stream",
     "text": [
      "which mode:\n",
      " vem\n",
      "iteration (1) VE step, log_likelihood=[-511.82018898]\n",
      "iteration (1) VM step, log_likelihood=[-503.67617959]\n",
      "iteration (2) VE step, log_likelihood=[-499.42445317]\n",
      "iteration (2) VM step, log_likelihood=[-497.34360745]\n",
      "iteration (3) VE step, log_likelihood=[-496.70851615]\n",
      "iteration (3) VM step, log_likelihood=[-496.52569911]\n",
      "iteration (4) VE step, log_likelihood=[-496.47460787]\n",
      "iteration (4) VM step, log_likelihood=[-496.45533961]\n",
      "iteration (5) VE step, log_likelihood=[-496.44388902]\n",
      "iteration (5) VM step, log_likelihood=[-496.43481741]\n",
      "iteration (6) VE step, log_likelihood=[-496.42650581]\n",
      "iteration (6) VM step, log_likelihood=[-496.41882719]\n",
      "iteration (7) VE step, log_likelihood=[-496.41148136]\n",
      "iteration (7) VM step, log_likelihood=[-496.40457099]\n",
      "iteration (8) VE step, log_likelihood=[-496.39795153]\n",
      "iteration (8) VM step, log_likelihood=[-496.39171036]\n",
      "iteration (9) VE step, log_likelihood=[-496.38574488]\n",
      "iteration (9) VM step, log_likelihood=[-496.38016045]\n",
      "iteration (10) VE step, log_likelihood=[-496.37480227]\n",
      "iteration (10) VM step, log_likelihood=[-496.36975897]\n"
     ]
    }
   ],
   "source": [
    "step_rate = 0.01\n",
    "mode = \"vem\"\n",
    "\n",
    "if mode == \"adam\":\n",
    "    model = SVMOGP(X=X, Y=Y, Z=Z, kern_list=kern_list, likelihood=likelihood, Y_metadata=Y_metadata, batch_size=150)\n",
    "    model.Z.fix()\n",
    "    print(\"which mode:\\n\", mode)\n",
    "    max_iter = 400\n",
    "    def callback(i):\n",
    "        # global max_iter\n",
    "        if i['n_iter'] % 50 ==0:\n",
    "            print('svi - iteration '+ str(i['n_iter'])+'/' + str(int(max_iter)) + str(model.log_likelihood()))\n",
    "\n",
    "        if i['n_iter'] > max_iter:\n",
    "            return True\n",
    "        return False\n",
    "\n",
    "    opt = climin.Adam(model.optimizer_array, model.stochastic_grad, step_rate=step_rate, \n",
    "                decay_mom1=1 - 0.9, decay_mom2=1 - 0.999)\n",
    "    opt.minimize_until(callback)\n",
    "\n",
    "elif mode == \"vem\":        \n",
    "    print(\"which mode:\\n\", mode)\n",
    "    model = SVMOGP(X=X, Y=Y, Z=Z, kern_list=kern_list, likelihood=likelihood, Y_metadata=Y_metadata)\n",
    "    model = VEM(model, vem_iters=10, maxIter_perVEM=100, optZ=False, verbose=False,verbose_plot=False,non_chained=True)\n",
    "#     model = SVMOGP(X=X, Y=Y, Z=Z, kern_list=kern_list, likelihood=likelihood,Y_metadata=Y_metadata, batch_size=50)\n",
    "#     model = VEM(model, vem_iters=30, maxIter_perVEM=100, step_rate=step_rate, optZ=False, verbose=True, verbose_plot=False)\n",
    "    model.kern_q0.variance.fix()"
   ]
  },
  {
   "cell_type": "code",
   "execution_count": 11,
   "metadata": {
    "scrolled": false
   },
   "outputs": [
    {
     "name": "stdout",
     "output_type": "stream",
     "text": [
      "model:\n",
      " \n",
      "Name : SVMOGP\n",
      "Objective : 496.3697589730014\n",
      "Number of Parameters : 5456\n",
      "Number of Optimization Parameters : 3\n",
      "Updates : True\n",
      "Parameters:\n",
      "  \u001b[1mSVMOGP.            \u001b[0;0m  |               value  |  constraints  |  priors\n",
      "  \u001b[1minducing_inputs    \u001b[0;0m  |            (100, 3)  |     fixed     |        \n",
      "  \u001b[1mm_u                \u001b[0;0m  |            (100, 1)  |     fixed     |        \n",
      "  \u001b[1mL_u                \u001b[0;0m  |           (5050, 1)  |     fixed     |        \n",
      "  \u001b[1mkern_q0.variance   \u001b[0;0m  |  0.6335378192925138  |   +ve fixed   |        \n",
      "  \u001b[1mkern_q0.lengthscale\u001b[0;0m  |     3.6976064396593  |      +ve      |        \n",
      "  \u001b[1mB_q0.W             \u001b[0;0m  |              (2, 1)  |               |        \n",
      "  \u001b[1mB_q0.kappa         \u001b[0;0m  |                (2,)  |   +ve fixed   |        \n"
     ]
    },
    {
     "data": {
      "image/png": "[encoded data removed]",
      "text/plain": [
       "<Figure size 432x288 with 1 Axes>"
      ]
     },
     "metadata": {
      "needs_background": "light"
     },
     "output_type": "display_data"
    },
    {
     "data": {
      "image/png": "[encoded data removed]",
      "text/plain": [
       "<Figure size 432x288 with 1 Axes>"
      ]
     },
     "metadata": {
      "needs_background": "light"
     },
     "output_type": "display_data"
    }
   ],
   "source": [
    "mu_pred, var_pred = model.predict(X1test)\n",
    "posteriors = model.posteriors_F(X1test)\n",
    "mu_fstar, var_fstar = posteriors[0].mean.copy(), np.diag(posteriors[0].covariance.copy())[:, None]\n",
    "\n",
    "plt.figure()\n",
    "# plt.title(\"Test\")\n",
    "plt.plot(Y1test, 'rx')\n",
    "\n",
    "# plt.title(\"train\")\n",
    "plt.plot(mu_pred[0], 'bo')\n",
    "\n",
    "mu_pred_train, var_pred_train = model.predict(X[0])\n",
    "posteriors_ = model.posteriors_F(X[0])\n",
    "mu_fstar_train, var_fstar_train = posteriors_[0].mean.copy(), np.diag(posteriors_[0].covariance.copy())[:, None]\n",
    "\n",
    "plt.figure()\n",
    "plt.plot(Y[0], 'rx')\n",
    "plt.plot(mu_pred_train[0], 'bo')\n",
    "\n",
    "# np.save('toy_data_gp_params.npy', model.param_array)\n",
    "print(\"model:\\n\", model)"
   ]
  },
  {
   "cell_type": "code",
   "execution_count": 12,
   "metadata": {},
   "outputs": [],
   "source": [
    "X1_train_slice1 = X[0][:131].copy()\n",
    "Y1_train_slice1 = Y[0][:131].copy()\n",
    "X1_train_slice2 = X[0][131:].copy()\n",
    "Y1_train_slice2 = Y[0][131:].copy()"
   ]
  },
  {
   "cell_type": "code",
   "execution_count": 13,
   "metadata": {},
   "outputs": [],
   "source": [
    "values = mu_pred[0].copy()\n",
    "values = np.floor(values)"
   ]
  },
  {
   "cell_type": "code",
   "execution_count": 14,
   "metadata": {},
   "outputs": [],
   "source": [
    "values_train = mu_pred_train[0].copy()\n",
    "values_train = np.floor(values_train)"
   ]
  },
  {
   "cell_type": "code",
   "execution_count": 15,
   "metadata": {},
   "outputs": [
    {
     "data": {
      "text/plain": [
       "Text(0, 0.5, 'Count')"
      ]
     },
     "execution_count": 15,
     "metadata": {},
     "output_type": "execute_result"
    },
    {
     "data": {
      "image/png": "[encoded data removed]",
      "text/plain": [
       "<Figure size 720x216 with 1 Axes>"
      ]
     },
     "metadata": {
      "needs_background": "light"
     },
     "output_type": "display_data"
    }
   ],
   "source": [
    "plt.figure(figsize=(10,3))\n",
    "plt.bar([i for i in range(0, 131)], Y1_train_slice1.reshape((-1,)), color='b', width=0.9)\n",
    "plt.bar([i for i in range(131, 181)], Y1test.reshape((-1,)), color='b', width=0.9)\n",
    "plt.bar([i for i in range(181, 250)], Y1_train_slice2.reshape((-1,)), color='b', width=0.9)\n",
    "\n",
    "plt.bar([i for i in range(0, 131)], values_train[:131].reshape((-1,)), color='g', width=0.9, alpha=0.6)\n",
    "plt.bar([i for i in range(131, 181)], values.reshape((-1,)), color='r', width=0.9, alpha=0.6)\n",
    "plt.bar([i for i in range(181, 250)], values_train[131:].reshape((-1,)), color='g', width=0.9, alpha=0.6)\n",
    "\n",
    "plt.xlabel(\"Input\", fontsize=16)\n",
    "plt.ylabel(\"Count\", fontsize=16)\n"
   ]
  },
  {
   "cell_type": "code",
   "execution_count": null,
   "metadata": {},
   "outputs": [],
   "source": []
  }
 ],
 "metadata": {
  "kernelspec": {
   "display_name": "Python 3",
   "language": "python",
   "name": "python3"
  },
  "language_info": {
   "codemirror_mode": {
    "name": "ipython",
    "version": 3
   },
   "file_extension": ".py",
   "mimetype": "text/x-python",
   "name": "python",
   "nbconvert_exporter": "python",
   "pygments_lexer": "ipython3",
   "version": "3.7.3"
  }
 },
 "nbformat": 4,
 "nbformat_minor": 2
}
